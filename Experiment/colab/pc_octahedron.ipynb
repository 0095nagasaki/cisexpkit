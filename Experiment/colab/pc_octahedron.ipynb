{
  "nbformat": 4,
  "nbformat_minor": 0,
  "metadata": {
    "colab": {
      "name": "pc_octahedron.ipynb",
      "provenance": [],
      "collapsed_sections": [],
      "toc_visible": true,
      "authorship_tag": "ABX9TyPy961fNkwKkH5+Y6TXu/vn",
      "include_colab_link": true
    },
    "kernelspec": {
      "name": "python3",
      "display_name": "Python 3"
    }
  },
  "cells": [
    {
      "cell_type": "markdown",
      "metadata": {
        "id": "view-in-github",
        "colab_type": "text"
      },
      "source": [
        "<a href=\"https://colab.research.google.com/github/tsakailab/cisexpkit/blob/master/Experiment/colab/pc_octahedron.ipynb\" target=\"_parent\"><img src=\"https://colab.research.google.com/assets/colab-badge.svg\" alt=\"Open In Colab\"/></a>"
      ]
    },
    {
      "cell_type": "markdown",
      "metadata": {
        "id": "3sNuBXVKBTSM",
        "colab_type": "text"
      },
      "source": [
        "# ポイントクラウドを用いた法線の計算"
      ]
    },
    {
      "cell_type": "markdown",
      "metadata": {
        "id": "LSD5bRlIBDBc",
        "colab_type": "text"
      },
      "source": [
        "### [ポイントクラウドが保存されたファイル](https://github.com/tsakailab/cisexpkit/raw/master/Experiment/colab/pc_octahedron.zip)をダウンロードします．\n",
        "能動的ステレオカメラRealsense SR300で取得したカラー画像と深度画像および逆透視変換したポイントクラウドのファイルが含まれています．"
      ]
    },
    {
      "cell_type": "code",
      "metadata": {
        "id": "pSWRze0elK2r",
        "colab_type": "code",
        "colab": {}
      },
      "source": [
        "import zipfile\n",
        "import os\n",
        "zipURL = \"https://github.com/tsakailab/cisexpkit/raw/master/Experiment/colab/pc_octahedron.zip\"\n",
        "!wget $zipURL --no-check-certificate --show-progress -q -O \"/tmp/pc_octahedron.zip\"\n",
        "with zipfile.ZipFile(\"/tmp/pc_octahedron.zip\", 'r') as f:\n",
        "    f.extractall(\"/tmp\")\n",
        "!ls /tmp/"
      ],
      "execution_count": 0,
      "outputs": []
    },
    {
      "cell_type": "markdown",
      "metadata": {
        "id": "TJ-WtYRYLsqk",
        "colab_type": "text"
      },
      "source": [
        "## Open3Dをインストールして，ポイントクラウドが保存されたply形式のファイルを読み込みます．\n",
        "\n",
        "Q16: [Open3D](http://www.open3d.org/)とは何か．\n",
        "\n",
        "Q17: [ply形式](http://paulbourke.net/dataformats/ply/)とは何か．\n",
        "> ヒント：ダウンロードしたplyファイルはASCIIで保存してあるので，メモ帳などで開けます．[MeshLab](http://www.meshlab.net/)などのソフトウェアでも可視化できます．"
      ]
    },
    {
      "cell_type": "code",
      "metadata": {
        "id": "zv5QzTznygFw",
        "colab_type": "code",
        "colab": {}
      },
      "source": [
        "!pip install -q open3d\n",
        "import open3d as o3d"
      ],
      "execution_count": 0,
      "outputs": []
    },
    {
      "cell_type": "markdown",
      "metadata": {
        "id": "KgCWbVhTLCbH",
        "colab_type": "text"
      },
      "source": [
        "##カラー画像とポイントクラウドを表示します．\n",
        "カラー画像の中央には正八面体があります．"
      ]
    },
    {
      "cell_type": "code",
      "metadata": {
        "id": "SiIFAkYrK3Q2",
        "colab_type": "code",
        "colab": {}
      },
      "source": [
        "import numpy as np\n",
        "from PIL import Image\n",
        "img = np.asarray(Image.open(\"/tmp/color00pc.png\"))\n",
        "\n",
        "%matplotlib inline\n",
        "import matplotlib.pyplot as plt\n",
        "plt.imshow(img)\n",
        "#fig = px.imshow(img);fig.show() # to display x,y,r,g,b at mouse position"
      ],
      "execution_count": 0,
      "outputs": []
    },
    {
      "cell_type": "code",
      "metadata": {
        "id": "ALutBz4Zo0YK",
        "colab_type": "code",
        "colab": {}
      },
      "source": [
        "pcd = o3d.io.read_point_cloud(\"/tmp/xyzrgb0\"+str(int(np.random.choice(6,1)[0]))+\"pc.ply\")\n",
        "\n",
        "nd = len(pcd.points)\n",
        "n = 30000\n",
        "p = np.random.choice(nd, min(n,nd), replace=False)\n",
        "print(\"%d out of %d points are displayed.\" % (n, nd))\n",
        "\n",
        "import plotly.graph_objs  as go\n",
        "xyz = np.asarray(pcd.points)[p,:]\n",
        "rgb = np.asarray(pcd.colors)[p,:] * 1.5 # brighter\n",
        "\n",
        "trace = go.Scatter3d(x=xyz[:,0], y=xyz[:,1], z=xyz[:,2], mode='markers',\n",
        "                     marker=dict(size=2, \n",
        "                                color=['rgb({},{},{})'.format(r,g,b) for r,g,b in zip(rgb[:,0], rgb[:,1], rgb[:,2])],\n",
        "                                opacity=0.5))\n",
        "\n",
        "layout = go.Layout(margin=dict(l=0,r=0,b=0,t=0))\n",
        "fig = go.Figure(data=[trace], layout=layout)\n",
        "camera = dict(up=dict(x=0, y=0, z=1), center=dict(x=0, y=-0.4, z=0), eye=dict(x=0, y=0.8, z=-2))\n",
        "fig.update_layout(scene_camera=camera)\n",
        "fig.show()"
      ],
      "execution_count": 0,
      "outputs": []
    },
    {
      "cell_type": "markdown",
      "metadata": {
        "id": "Z4KzRcj9OvvJ",
        "colab_type": "text"
      },
      "source": [
        "## 法線ベクトルと，なす角を計測しましょう．\n",
        "1. 正八面体から面をふたつ選んでください．\n",
        "2. 選んだ面にある点の3次元座標を記録してください．ひとつの面から異なる3点の座標を記録します．\n",
        "3. 記録した3点の座標から，その面の単位法線ベクトル（法線の向きを表す，大きさ1の3次元ベクトル）を算出してください．\n",
        "4. 選んだ2面の法線ベクトルのなす間を計測してください．\n",
        "\n",
        "> 可視化したポイントクラウドの点にマウスを合わせると，その点の3次元座標(X,Y,Z)が表示されます．\n",
        "\n",
        "> 正八面体の面から点の座標を読み取りやすいように，マウス操作による視点の操作や，scatter_3dの使い方を工夫しましょう．もしポイントクラウドが再描画されなくなった場合は，ブラウザでページを開きなおしてください．\n",
        "\n",
        "Q18: 計測した法線ベクトルのなす角を$\\theta$とする．精密な正八面体を仮定すると，$\\cos\\theta$の真値はいくらか．\n",
        "\n",
        "Q19: 計測を反復し，平均やばらつきなどで統計的に評価すべきである．計測した$\\cos\\theta$または$\\theta$の[正確度(accuracy)と精度(precision)](https://en.wikipedia.org/wiki/Accuracy_and_precision)を実験的に示せ．\n",
        "\n",
        "Q20: この3次元計測では，画像の取得からなす角の推定までの過程において，どのような原因による誤差が考えられるか．正確度または精度を損なう誤差の原因をそれぞれひとつ以上指摘し，改善方法を提案せよ．ただし，正八面体は精密に作られているものとする．"
      ]
    }
  ]
}