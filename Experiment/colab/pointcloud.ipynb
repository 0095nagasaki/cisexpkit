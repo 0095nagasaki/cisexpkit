{
  "nbformat": 4,
  "nbformat_minor": 0,
  "metadata": {
    "colab": {
      "name": "pointcloud.ipynb",
      "provenance": [],
      "collapsed_sections": [],
      "toc_visible": true,
      "authorship_tag": "ABX9TyOUHkxfVrXC4J0oGudsW8nj",
      "include_colab_link": true
    },
    "kernelspec": {
      "name": "python3",
      "display_name": "Python 3"
    }
  },
  "cells": [
    {
      "cell_type": "markdown",
      "metadata": {
        "id": "view-in-github",
        "colab_type": "text"
      },
      "source": [
        "<a href=\"https://colab.research.google.com/github/tsakailab/cisexpkit/blob/master/Experiment/colab/pointcloud.ipynb\" target=\"_parent\"><img src=\"https://colab.research.google.com/assets/colab-badge.svg\" alt=\"Open In Colab\"/></a>"
      ]
    },
    {
      "cell_type": "markdown",
      "metadata": {
        "id": "3sNuBXVKBTSM",
        "colab_type": "text"
      },
      "source": [
        "# 逆透視変換による3次元復元"
      ]
    },
    {
      "cell_type": "markdown",
      "metadata": {
        "id": "LSD5bRlIBDBc",
        "colab_type": "text"
      },
      "source": [
        "### 視差画像の例を取得して表示します．\n",
        "[Middlebury Stereo Datasets](http://vision.middlebury.edu/stereo/data/) の [2005 Datasets](http://vision.middlebury.edu/stereo/data/scenes2005/) を使います．"
      ]
    },
    {
      "cell_type": "code",
      "metadata": {
        "id": "A8B6UzfBiwmX",
        "colab_type": "code",
        "colab": {}
      },
      "source": [
        "MB05_names = [\"Art\", \"Books\", \"Dolls\", \"Laundry\", \"Moebius\", \"Reindeer\"]\n",
        "MB05_name = MB05_names[  0  ]  # choose 0 to 5\n",
        "MB05_scales = [(\"FullSize\", 1.0), (\"HalfSize\", 2.0), (\"ThirdSize\", 3.0)]\n",
        "MB05_scale = MB05_scales[2]  # choose 0 to 2\n",
        "zipURL = \"http://vision.middlebury.edu/stereo/data/scenes2005/\" + MB05_scale[0] + \"/zip-2views/\" + MB05_name +\"-2views.zip\"\n",
        "\n",
        "print(\"Downloading the dataset \" + MB05_name + \" (\" + MB05_scale[0] + \") ..\")\n",
        "!wget $zipURL --no-check-certificate --show-progress -q -O \"/tmp/tmp.zip\""
      ],
      "execution_count": 0,
      "outputs": []
    },
    {
      "cell_type": "code",
      "metadata": {
        "id": "y5xyRsvyxJdp",
        "colab_type": "code",
        "colab": {}
      },
      "source": [
        "import zipfile\n",
        "import os\n",
        "\n",
        "with zipfile.ZipFile(\"/tmp/tmp.zip\", 'r') as f:\n",
        "    f.extractall(\"/tmp\")\n",
        "\n",
        "import numpy as np\n",
        "from PIL import Image\n",
        "\n",
        "root_dir = \"/tmp/\" + MB05_name\n",
        "left = np.asarray(Image.open(root_dir + '/view1.png'))\n",
        "right = np.asarray(Image.open(root_dir + '/view5.png'))\n",
        "disp1 = np.asarray(Image.open(root_dir + '/disp1.png')) / MB05_scale[1]\n",
        "height, width, colors = left.shape\n",
        "with open(root_dir + '/dmin.txt', 'r') as f:\n",
        "    doffs = int(f.read()) / MB05_scale[1]\n",
        "\n",
        "%matplotlib inline\n",
        "import matplotlib.pyplot as plt\n",
        "#\"\"\"\n",
        "plt.figure(figsize=(15,4))\n",
        "plt.subplot(1,3,1)\n",
        "plt.imshow(left)\n",
        "plt.subplot(1,3,2)\n",
        "plt.imshow(right)\n",
        "plt.subplot(1,3,3)\n",
        "#\"\"\"\n",
        "plt.imshow(disp1, cmap=\"gray\")"
      ],
      "execution_count": 0,
      "outputs": []
    },
    {
      "cell_type": "markdown",
      "metadata": {
        "id": "4Nes2DjWA3tR",
        "colab_type": "text"
      },
      "source": [
        "## 逆透視変換で点群を作りましょう．\n",
        "まず，各画素にuとvの座標を設定します．座標系は[予習事項](https://github.com/tsakailab/cisexpkit/blob/master/Experiment/colab/preparation.pdf)の図1です．"
      ]
    },
    {
      "cell_type": "code",
      "metadata": {
        "id": "EGWYMTEqSlgZ",
        "colab_type": "code",
        "colab": {}
      },
      "source": [
        "# 画像の中心を主点と仮定します．\n",
        "cx, cy = width*0.5, height*0.5\n",
        "j_to_u = lambda j: -(j - cx) * MB05_scale[1]\n",
        "i_to_v = lambda i: -(i - cy) * MB05_scale[1]\n",
        "u, v = np.meshgrid(j_to_u(np.arange(width)), i_to_v(np.arange(height)))\n",
        "print(u, u.shape)\n",
        "print(v, v.shape)"
      ],
      "execution_count": 0,
      "outputs": []
    },
    {
      "cell_type": "markdown",
      "metadata": {
        "id": "sxJj6OuAl6FO",
        "colab_type": "text"
      },
      "source": [
        "Z, u, vが与えられたとき，X[mm]とY[mm]を計算する関数を作りましょう．[ヒント：予習事項の問2](https://github.com/tsakailab/cisexpkit/blob/master/Experiment/colab/preparation.pdf)\n",
        "\n",
        "Q11: 関数 Zuv_to_XYを完成させよ．単位mmの深度Zと，画素数の単位をもつ座標u, v, 焦点距離fが与えられているものとする．"
      ]
    },
    {
      "cell_type": "code",
      "metadata": {
        "id": "T_ur3Rg7K3bS",
        "colab_type": "code",
        "colab": {}
      },
      "source": [
        "focal_length = 3740 # 焦点距離 f [pixels]\n",
        "\n",
        "def Zuv_to_XY(Z, u, v, f=focal_length):\n",
        "    ### X = ________   # Z, u, v, f から必要なものを使って計算する\n",
        "    ### Y = ________   # Z, u, v, f から必要なものを使って計算する\n",
        "    return X, Y"
      ],
      "execution_count": 0,
      "outputs": []
    },
    {
      "cell_type": "markdown",
      "metadata": {
        "id": "4Ttut6IlONrm",
        "colab_type": "text"
      },
      "source": [
        "次に，視差 d から3次元座標(X,Y,Z)の深度Zを計算する式を書きましょう．\n",
        "ただし，焦点距離をfocal_length，基線の長さを baseline とします．\n",
        "\n",
        "（実験(a)1日目のQ10）\n",
        "\n",
        "Q12: 基線の長さ baseline [mm], 焦点距離 focal_length [pixels], 視差 d [pixels]，左右画像の主点の差 doffs [mm] が与えられている．\n",
        "深度 Z [mm] を計算する式を作成せよ．\n",
        "> ヒント: [Middlebury 2014 stereo datasets](http://vision.middlebury.edu/stereo/data/scenes2014/#description)"
      ]
    },
    {
      "cell_type": "code",
      "metadata": {
        "id": "FDFakKI6_Bxm",
        "colab_type": "code",
        "colab": {}
      },
      "source": [
        "baseline = 120 # 基線長l [mm]\n",
        "d = disp1 # 視差 d [pixels]\n",
        "\n",
        "### Z = ________  # baseline, focal_length, d, doffs を使って計算する（for文不要）．\n",
        "\n",
        "# Z, u, v から X, Y を計算します．\n",
        "X, Y = Zuv_to_XY(Z, u, v)"
      ],
      "execution_count": 0,
      "outputs": []
    },
    {
      "cell_type": "markdown",
      "metadata": {
        "id": "d4jZ1wN7uzm0",
        "colab_type": "text"
      },
      "source": [
        "## ポイントクラウドを可視化して観察しましょう．\n",
        "\n",
        "Q13: 使用した画像のサイズと全画素数はいくらか．全画素のうち，何画素が逆透視変換可能か．逆透視変換できない点が生じる原因を述べよ．\n",
        "\n",
        "Q14: [plotly](https://plotly.com/)とは何か．特に，[plotly Graphing Libraries](https://plotly.com/graphing-libraries/)はどのような特長があるか．\n",
        "\n",
        "Q15: [plotly.graph_objects.Scatter3d](https://plotly.com/python-api-reference/generated/plotly.graph_objects.Scatter3d.html#plotly.graph_objects.Scatter3d)は何ができる関数で，このサンプルコードではどのように使われているか．\n",
        "\n",
        "> マウスで視点や拡大・縮小をコントロールできます．描画領域右上にある機能も活用しましょう．\n",
        "\n",
        "> 設定を変えて再描画後に表示されなくなった場合は，ブラウザでページを開きなおしてください．\n"
      ]
    },
    {
      "cell_type": "code",
      "metadata": {
        "id": "mXq2X0hsQWtP",
        "colab_type": "code",
        "colab": {}
      },
      "source": [
        "nd = np.count_nonzero(d)\n",
        "n = 20000\n",
        "p = np.random.choice(nd, min(n,nd), replace=False)\n",
        "print(\"%d out of %d points are displayed.\" % (n, nd))\n",
        "\n",
        "import plotly.graph_objs  as go\n",
        "trace = go.Scatter3d(x=X[d>0][p], y=Y[d>0][p], z=Z[d>0][p], mode='markers',\n",
        "                     marker=dict(size=2, \n",
        "                                color=['rgb({},{},{})'.format(r,g,b) for r,g,b in zip(left[:,:,0][d>0][p], left[:,:,1][d>0][p], left[:,:,2][d>0][p])],\n",
        "                                opacity=0.8))\n",
        "\n",
        "layout = go.Layout(margin=dict(l=0,r=0,b=0,t=0))\n",
        "fig = go.Figure(data=[trace], layout=layout)\n",
        "camera = dict(up=dict(x=0, y=0, z=1), center=dict(x=0, y=-0.4, z=0), eye=dict(x=0, y=0.8, z=-2))\n",
        "fig.update_layout(scene_camera=camera)\n",
        "fig.show()"
      ],
      "execution_count": 0,
      "outputs": []
    }
  ]
}